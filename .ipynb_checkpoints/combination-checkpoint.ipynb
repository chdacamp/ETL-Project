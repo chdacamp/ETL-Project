{
 "cells": [
  {
   "cell_type": "code",
   "execution_count": 3,
   "metadata": {},
   "outputs": [],
   "source": [
    "from config import user, password\n",
    "import pandas as pd\n",
    "from sqlalchemy import create_engine"
   ]
  },
  {
   "cell_type": "code",
   "execution_count": null,
   "metadata": {},
   "outputs": [],
   "source": [
    "vsrr = pd.read_csv('vsrr.csv')\n",
    "vsrr = vsrr.pivot(index= 'State', columns= 'Year', values= 'Data Value')"
   ]
  },
  {
   "cell_type": "code",
   "execution_count": 15,
   "metadata": {},
   "outputs": [],
   "source": [
    "unemployment = pd.read_csv('unemployment_df.csv')"
   ]
  },
  {
   "cell_type": "code",
   "execution_count": 34,
   "metadata": {},
   "outputs": [],
   "source": [
    "unemployment.head()\n",
    "unemployment_vsrr = unemployment.merge(vsrr, left_on= 'State', right_on= 'State')\n",
    "unemployment_vsrr = unemployment_vsrr.rename(columns = {2015: '2015 OD', 2016: '2016 OD', 2017: '2017 OD', 2018: '2018 OD'})"
   ]
  },
  {
   "cell_type": "code",
   "execution_count": 35,
   "metadata": {},
   "outputs": [
    {
     "data": {
      "text/html": [
       "<div>\n",
       "<style scoped>\n",
       "    .dataframe tbody tr th:only-of-type {\n",
       "        vertical-align: middle;\n",
       "    }\n",
       "\n",
       "    .dataframe tbody tr th {\n",
       "        vertical-align: top;\n",
       "    }\n",
       "\n",
       "    .dataframe thead th {\n",
       "        text-align: right;\n",
       "    }\n",
       "</style>\n",
       "<table border=\"1\" class=\"dataframe\">\n",
       "  <thead>\n",
       "    <tr style=\"text-align: right;\">\n",
       "      <th></th>\n",
       "      <th>State</th>\n",
       "      <th>State_Name</th>\n",
       "      <th>2015 U Rate</th>\n",
       "      <th>2015 U Rate.1</th>\n",
       "      <th>2016 U Rate</th>\n",
       "      <th>2016 U Rank</th>\n",
       "      <th>2017 U Rate</th>\n",
       "      <th>2017 U Rank</th>\n",
       "      <th>2015 OD</th>\n",
       "      <th>2016 OD</th>\n",
       "      <th>2017 OD</th>\n",
       "      <th>2018 OD</th>\n",
       "    </tr>\n",
       "  </thead>\n",
       "  <tbody>\n",
       "    <tr>\n",
       "      <th>0</th>\n",
       "      <td>ND</td>\n",
       "      <td>North Dakota</td>\n",
       "      <td>2.8</td>\n",
       "      <td>1.0</td>\n",
       "      <td>3.1</td>\n",
       "      <td>4.0</td>\n",
       "      <td>2.6</td>\n",
       "      <td>2.0</td>\n",
       "      <td>799.0</td>\n",
       "      <td>828.0</td>\n",
       "      <td>950.0</td>\n",
       "      <td>312.0</td>\n",
       "    </tr>\n",
       "    <tr>\n",
       "      <th>1</th>\n",
       "      <td>NE</td>\n",
       "      <td>Nebraska</td>\n",
       "      <td>3.0</td>\n",
       "      <td>2.0</td>\n",
       "      <td>3.1</td>\n",
       "      <td>4.0</td>\n",
       "      <td>2.9</td>\n",
       "      <td>5.0</td>\n",
       "      <td>1547.0</td>\n",
       "      <td>1425.0</td>\n",
       "      <td>1512.0</td>\n",
       "      <td>631.0</td>\n",
       "    </tr>\n",
       "    <tr>\n",
       "      <th>2</th>\n",
       "      <td>SD</td>\n",
       "      <td>South Dakota</td>\n",
       "      <td>3.1</td>\n",
       "      <td>3.0</td>\n",
       "      <td>3.0</td>\n",
       "      <td>3.0</td>\n",
       "      <td>3.3</td>\n",
       "      <td>10.0</td>\n",
       "      <td>727.0</td>\n",
       "      <td>809.0</td>\n",
       "      <td>891.0</td>\n",
       "      <td>263.0</td>\n",
       "    </tr>\n",
       "    <tr>\n",
       "      <th>3</th>\n",
       "      <td>NH</td>\n",
       "      <td>New Hampshire</td>\n",
       "      <td>3.4</td>\n",
       "      <td>4.0</td>\n",
       "      <td>2.9</td>\n",
       "      <td>1.0</td>\n",
       "      <td>2.7</td>\n",
       "      <td>3.0</td>\n",
       "      <td>4896.0</td>\n",
       "      <td>5256.0</td>\n",
       "      <td>5524.0</td>\n",
       "      <td>1874.0</td>\n",
       "    </tr>\n",
       "    <tr>\n",
       "      <th>4</th>\n",
       "      <td>HI</td>\n",
       "      <td>Hawaii</td>\n",
       "      <td>3.6</td>\n",
       "      <td>5.0</td>\n",
       "      <td>2.9</td>\n",
       "      <td>1.0</td>\n",
       "      <td>2.4</td>\n",
       "      <td>1.0</td>\n",
       "      <td>1884.0</td>\n",
       "      <td>2294.0</td>\n",
       "      <td>2312.0</td>\n",
       "      <td>867.0</td>\n",
       "    </tr>\n",
       "  </tbody>\n",
       "</table>\n",
       "</div>"
      ],
      "text/plain": [
       "  State     State_Name  2015 U Rate  2015 U Rate.1  2016 U Rate  2016 U Rank  \\\n",
       "0    ND   North Dakota          2.8            1.0          3.1          4.0   \n",
       "1    NE       Nebraska          3.0            2.0          3.1          4.0   \n",
       "2    SD   South Dakota          3.1            3.0          3.0          3.0   \n",
       "3    NH  New Hampshire          3.4            4.0          2.9          1.0   \n",
       "4    HI         Hawaii          3.6            5.0          2.9          1.0   \n",
       "\n",
       "   2017 U Rate  2017 U Rank  2015 OD  2016 OD  2017 OD  2018 OD  \n",
       "0          2.6          2.0    799.0    828.0    950.0    312.0  \n",
       "1          2.9          5.0   1547.0   1425.0   1512.0    631.0  \n",
       "2          3.3         10.0    727.0    809.0    891.0    263.0  \n",
       "3          2.7          3.0   4896.0   5256.0   5524.0   1874.0  \n",
       "4          2.4          1.0   1884.0   2294.0   2312.0    867.0  "
      ]
     },
     "execution_count": 35,
     "metadata": {},
     "output_type": "execute_result"
    }
   ],
   "source": [
    "unemployment_vsrr.head()"
   ]
  },
  {
   "cell_type": "code",
   "execution_count": 37,
   "metadata": {},
   "outputs": [],
   "source": [
    "rds_connection_string = f\"{user}:{password}@127.0.0.1/etl_project\"\n",
    "engine = create_engine(f'mysql+pymysql://{rds_connection_string}')"
   ]
  },
  {
   "cell_type": "code",
   "execution_count": 38,
   "metadata": {},
   "outputs": [],
   "source": [
    "unemployment_vsrr.to_sql(name = 'combined', con = engine, if_exists= 'append', index = False)"
   ]
  }
 ],
 "metadata": {
  "kernelspec": {
   "display_name": "Python 3",
   "language": "python",
   "name": "python3"
  },
  "language_info": {
   "codemirror_mode": {
    "name": "ipython",
    "version": 3
   },
   "file_extension": ".py",
   "mimetype": "text/x-python",
   "name": "python",
   "nbconvert_exporter": "python",
   "pygments_lexer": "ipython3",
   "version": "3.7.0"
  }
 },
 "nbformat": 4,
 "nbformat_minor": 2
}
